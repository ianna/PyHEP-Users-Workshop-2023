{
 "cells": [
  {
   "cell_type": "markdown",
   "id": "a34553c9-782a-4dce-afd5-e013415c21e1",
   "metadata": {},
   "source": [
    "### Conversions of Awkward Arrays to and from RDataFrame (C++)"
   ]
  },
  {
   "cell_type": "markdown",
   "id": "207f1c66-4bc9-4082-9e01-5c167e3b0ff4",
   "metadata": {},
   "source": [
    "The ROOT RDataFrame is a declarative, parallel framework for data analysis and manipulation. RDataFrame reads columnar data via a data source. The transformations can be applied to the data to select rows and/or to define new columns, and to produce results: histograms, etc."
   ]
  },
  {
   "cell_type": "code",
   "execution_count": 1,
   "id": "838c6674-1a81-4a89-af26-c71cfd346cb9",
   "metadata": {},
   "outputs": [],
   "source": [
    "import awkward as ak"
   ]
  },
  {
   "cell_type": "code",
   "execution_count": 2,
   "id": "d24ca148-10be-4845-b318-30de69ed9ef3",
   "metadata": {},
   "outputs": [
    {
     "name": "stdout",
     "output_type": "stream",
     "text": [
      "Welcome to JupyROOT 6.28/04\n"
     ]
    }
   ],
   "source": [
    "import ROOT"
   ]
  },
  {
   "cell_type": "markdown",
   "id": "f1d6655e-c31d-43cc-ab8b-2140867fa9ee",
   "metadata": {},
   "source": [
    "#### From Awkward to RDataFrame"
   ]
  },
  {
   "cell_type": "markdown",
   "id": "897e178e-fb8a-4aa3-b9e6-ad8ef421048f",
   "metadata": {},
   "source": [
    "The function for Awkward → RDataFrame conversion is ak.to_rdataframe().\n",
    "\n",
    "The argument to this function requires a dictionary: { \\<column name string\\> : \\<awkwad array\\> }. This function always returns\n",
    "\n",
    "cppyy.gbl.ROOT.RDF.RInterface\n",
    "object."
   ]
  },
  {
   "cell_type": "code",
   "execution_count": 3,
   "id": "3ba95e4f-07c0-4a06-94f2-cd52c261d34c",
   "metadata": {},
   "outputs": [],
   "source": [
    "array_x = ak.Array(\n",
    "    [\n",
    "        {\"x\": [1.1, 1.2, 1.3]},\n",
    "        {\"x\": [2.1, 2.2]},\n",
    "        {\"x\": [3.1]},\n",
    "        {\"x\": [4.1, 4.2, 4.3, 4.4]},\n",
    "        {\"x\": [5.1]},\n",
    "    ]\n",
    ")\n",
    "array_y = ak.Array([1, 2, 3, 4, 5])\n",
    "array_z = ak.Array([[1.1], [2.1, 2.3, 2.4], [3.1], [4.1, 4.2, 4.3], [5.1]])"
   ]
  },
  {
   "cell_type": "markdown",
   "id": "66f0239c-16ce-42c1-82c9-5e2765088030",
   "metadata": {},
   "source": [
    "The arrays given for each column have to be equal length:"
   ]
  },
  {
   "cell_type": "code",
   "execution_count": 4,
   "id": "e0b6d52c-f0c6-413a-b27b-d4c7a7c7f846",
   "metadata": {},
   "outputs": [],
   "source": [
    "assert len(array_x) == len(array_y) == len(array_z)"
   ]
  },
  {
   "cell_type": "markdown",
   "id": "dca11a90-3c4a-48bc-9096-5f1138b5a9e3",
   "metadata": {},
   "source": [
    "The dictionary key defines a column name in RDataFrame."
   ]
  },
  {
   "cell_type": "code",
   "execution_count": 5,
   "id": "67c0f99f-ab18-458b-a8dd-f68e9d913e56",
   "metadata": {},
   "outputs": [],
   "source": [
    "df = ak.to_rdataframe({\"x\": array_x, \"y\": array_y, \"z\": array_z})"
   ]
  },
  {
   "cell_type": "markdown",
   "id": "55d2e8dc-f0f8-4b1c-afc8-0ed1139087ef",
   "metadata": {},
   "source": [
    "The ak.to_rdataframe() function presents a generated-on-demand Awkward Array view as an RDataFrame source. There is a small overhead of generating Awkward RDataSource C++ code. This operation does not execute the RDataFrame event loop. The array data are not copied.\n",
    "\n",
    "The column readers are generated based on the run-time type of the views. Here is a description of the RDataFrame columns:"
   ]
  },
  {
   "cell_type": "code",
   "execution_count": 6,
   "id": "397e99f7-5428-43ea-aa0c-902be52499b8",
   "metadata": {},
   "outputs": [
    {
     "name": "stdout",
     "output_type": "stream",
     "text": [
      "Dataframe from datasource Custom Datasource\n",
      "\n",
      "Property                Value\n",
      "--------                -----\n",
      "Columns in total            3\n",
      "Columns from defines        0\n",
      "Event loops run             0\n",
      "Processing slots            1\n",
      "\n",
      "Column  Type                            Origin\n",
      "------  ----                            ------\n",
      "x       awkward::Record_9q0lAle34wU     Dataset\n",
      "y       int64_t                         Dataset\n",
      "z       ROOT::VecOps::RVec<double>      Dataset"
     ]
    }
   ],
   "source": [
    "df.Describe().Print()"
   ]
  },
  {
   "cell_type": "code",
   "execution_count": 7,
   "id": "4997612c-5beb-437c-a5fa-7c8175663043",
   "metadata": {},
   "outputs": [
    {
     "data": {
      "text/html": [
       "<pre>[{y: 1, z: [1.1], x: {x: [1.1, ..., 1.3]}},\n",
       " {y: 2, z: [2.1, 2.3, 2.4], x: {x: [2.1, ...]}},\n",
       " {y: 3, z: [3.1], x: {x: [3.1]}},\n",
       " {y: 4, z: [4.1, 4.2, 4.3], x: {x: [4.1, ...]}},\n",
       " {y: 5, z: [5.1], x: {x: [5.1]}}]\n",
       "------------------------------------------------\n",
       "type: 5 * {\n",
       "    y: int64,\n",
       "    z: var * float64,\n",
       "    x: {\n",
       "        x: var * float64\n",
       "    }\n",
       "}</pre>"
      ],
      "text/plain": [
       "<Array [{y: 1, z: [1.1], x: {...}}, ..., {...}] type='5 * {y: int64, z: var...'>"
      ]
     },
     "execution_count": 7,
     "metadata": {},
     "output_type": "execute_result"
    }
   ],
   "source": [
    "array = ak.from_rdataframe(\n",
    "    df,\n",
    "    columns=(\n",
    "        \"x\",\n",
    "        \"y\",\n",
    "        \"z\",\n",
    "    ),\n",
    ")\n",
    "array"
   ]
  },
  {
   "cell_type": "markdown",
   "id": "c58b75ab-764d-4f1f-89ee-98264294c080",
   "metadata": {},
   "source": [
    "The x column contains an Awkward Array with a made-up type; awkward::Record_cKnX5DyNVM.\n",
    "\n",
    "Awkward Arrays are dynamically typed, so in a C++ context, the type name is hashed. In practice, there is no need to know the type. The C++ code should use a placeholder type specifier auto. The type of the variable that is being declared will be automatically deduced from its initializer."
   ]
  },
  {
   "cell_type": "markdown",
   "id": "51477171-1cff-44ab-a8a5-82a6b9c6c971",
   "metadata": {},
   "source": [
    "#### From RDataFrame to Awkward"
   ]
  },
  {
   "cell_type": "markdown",
   "id": "67c0188d-86a7-4a68-8893-2aa24477b05a",
   "metadata": {},
   "source": [
    "The function for RDataFrame → Awkward conversion is ak.from_rdataframe(). The argument to this function accepts a tuple of strings that are the RDataFrame column names. By default this function returns\n",
    "\n",
    "ak.Array\n",
    "type."
   ]
  },
  {
   "cell_type": "code",
   "execution_count": 8,
   "id": "b0cc4497-8174-4a7c-a3da-4d8d9879ac55",
   "metadata": {},
   "outputs": [
    {
     "data": {
      "text/html": [
       "<pre>[{y: 1, z: [1.1], x: {x: [1.1, ..., 1.3]}},\n",
       " {y: 2, z: [2.1, 2.3, 2.4], x: {x: [2.1, ...]}},\n",
       " {y: 3, z: [3.1], x: {x: [3.1]}},\n",
       " {y: 4, z: [4.1, 4.2, 4.3], x: {x: [4.1, ...]}},\n",
       " {y: 5, z: [5.1], x: {x: [5.1]}}]\n",
       "------------------------------------------------\n",
       "type: 5 * {\n",
       "    y: int64,\n",
       "    z: var * float64,\n",
       "    x: {\n",
       "        x: var * float64\n",
       "    }\n",
       "}</pre>"
      ],
      "text/plain": [
       "<Array [{y: 1, z: [1.1], x: {...}}, ..., {...}] type='5 * {y: int64, z: var...'>"
      ]
     },
     "execution_count": 8,
     "metadata": {},
     "output_type": "execute_result"
    }
   ],
   "source": [
    "array = ak.from_rdataframe(\n",
    "    df,\n",
    "    columns=(\n",
    "        \"x\",\n",
    "        \"y\",\n",
    "        \"z\",\n",
    "    ),\n",
    ")\n",
    "array"
   ]
  },
  {
   "cell_type": "markdown",
   "id": "43332b42-b34f-4315-b803-4ebb90d56e29",
   "metadata": {},
   "source": [
    "When RDataFrame runs multi-threaded event loops, the entry processing order is not guaranteed:"
   ]
  },
  {
   "cell_type": "code",
   "execution_count": 9,
   "id": "e18d81f1-d431-48cb-809c-2a4596984473",
   "metadata": {},
   "outputs": [],
   "source": [
    "ROOT.ROOT.EnableImplicitMT()"
   ]
  },
  {
   "cell_type": "markdown",
   "id": "4cb9df07-2106-4ae7-9df4-88989a4c304d",
   "metadata": {},
   "source": [
    "Let’s recreate the dataframe, to reflect the new multi-threading mode"
   ]
  },
  {
   "cell_type": "code",
   "execution_count": 10,
   "id": "809e9ab0-5bd9-4efc-8fde-549a4f684af2",
   "metadata": {},
   "outputs": [],
   "source": [
    "df = ak.to_rdataframe({\"x\": array_x, \"y\": array_y, \"z\": array_z})"
   ]
  },
  {
   "cell_type": "markdown",
   "id": "39ec725e-7720-4912-b0d4-2aece801e28f",
   "metadata": {},
   "source": [
    "If the keep_order parameter set to True, the columns will keep order after filtering:"
   ]
  },
  {
   "cell_type": "code",
   "execution_count": 11,
   "id": "3b5a6a86-94a9-4114-aa76-d727609ba85b",
   "metadata": {},
   "outputs": [
    {
     "data": {
      "text/html": [
       "<pre>[{y: 2, z: [2.1, 2.3, 2.4], x: {x: [2.1, ...]}},\n",
       " {y: 4, z: [4.1, 4.2, 4.3], x: {x: [4.1, ...]}}]\n",
       "------------------------------------------------\n",
       "type: 2 * {\n",
       "    y: int64,\n",
       "    z: var * float64,\n",
       "    x: {\n",
       "        x: var * float64\n",
       "    }\n",
       "}</pre>"
      ],
      "text/plain": [
       "<Array [{y: 2, z: [...], x: {...}}, {...}] type='2 * {y: int64, z: var * fl...'>"
      ]
     },
     "execution_count": 11,
     "metadata": {},
     "output_type": "execute_result"
    }
   ],
   "source": [
    "df = df.Filter(\"y % 2 == 0\")\n",
    "\n",
    "array = ak.from_rdataframe(\n",
    "    df,\n",
    "    columns=(\n",
    "        \"x\",\n",
    "        \"y\",\n",
    "        \"z\",\n",
    "    ),\n",
    "    keep_order=True,\n",
    ")\n",
    "array"
   ]
  },
  {
   "cell_type": "markdown",
   "id": "83db5e6c-1b8d-4d42-b650-37b961622368",
   "metadata": {},
   "source": [
    "#### Analysis Example"
   ]
  },
  {
   "cell_type": "code",
   "execution_count": 12,
   "id": "bc8d253c-3ce0-4e23-b635-2933dcbc8e81",
   "metadata": {},
   "outputs": [],
   "source": [
    "df = ROOT.RDataFrame('Events', 'root://eospublic.cern.ch//eos/opendata/cms/derived-data/AOD2NanoAODOutreachTool/Run2012BC_DoubleMuParked_Muons.root')"
   ]
  },
  {
   "cell_type": "code",
   "execution_count": 13,
   "id": "ffdc869c-1cc0-449b-a5f8-930c6c59d335",
   "metadata": {},
   "outputs": [],
   "source": [
    "array = ak.from_rdataframe(\n",
    "    df,\n",
    "    columns=(\"Muon_charge\",\"Muon_eta\",\"Muon_mass\",\"Muon_phi\",\"Muon_pt\",\"nMuon\",),)"
   ]
  },
  {
   "cell_type": "code",
   "execution_count": 14,
   "id": "f8c9d0c8-7f99-40f5-9f78-d65da1be48be",
   "metadata": {},
   "outputs": [
    {
     "name": "stdout",
     "output_type": "stream",
     "text": [
      "type: 61540413 * {\n",
      "    Muon_charge: var * int32,\n",
      "    Muon_eta: var * float32,\n",
      "    Muon_mass: var * float32,\n",
      "    Muon_phi: var * float32,\n",
      "    Muon_pt: var * float32,\n",
      "    nMuon: uint32\n",
      "}\n",
      "[{Muon_charge: [1, -1], Muon_eta: [1.58, 1.29], Muon_mass: [...], ...},\n",
      " {Muon_charge: [-1, 1], Muon_eta: [1.06, -0.853], Muon_mass: [...], ...},\n",
      " {Muon_charge: [-1, -1, -1], Muon_eta: [1.82, ..., 1.98], Muon_mass: ..., ...},\n",
      " {Muon_charge: [1, -1, -1], Muon_eta: [-2.39, ...], Muon_mass: [...], ...},\n",
      " {Muon_charge: [-1, 1], Muon_eta: [-2.11, -1.16], Muon_mass: [...], ...},\n",
      " {Muon_charge: [1, -1], Muon_eta: [-0.0816, ...], Muon_mass: [...], ...},\n",
      " {Muon_charge: [1, -1, 1], Muon_eta: [-0.0208, ...], Muon_mass: [...], ...},\n",
      " {Muon_charge: [-1, -1], Muon_eta: [-0.913, ...], Muon_mass: [...], ...},\n",
      " {Muon_charge: [1, 1], Muon_eta: [-0.361, -0.69], Muon_mass: [...], ...},\n",
      " {Muon_charge: [1, -1], Muon_eta: [-0.61, -0.601], Muon_mass: [...], ...},\n",
      " ...,\n",
      " {Muon_charge: [-1, 1, -1], Muon_eta: [-1.41, ..., 1.75], Muon_mass: ..., ...},\n",
      " {Muon_charge: [-1, 1, 1, 1], Muon_eta: [1.38, ..., 1.69], Muon_mass: ..., ...},\n",
      " {Muon_charge: [-1], Muon_eta: [-0.204], Muon_mass: [0.106], ...},\n",
      " {Muon_charge: [-1, -1, 1, 1, 1, -1, 1], Muon_eta: [...], Muon_mass: ..., ...},\n",
      " {Muon_charge: [1, -1], Muon_eta: [-1.96, 0.772], Muon_mass: [...], ...},\n",
      " {Muon_charge: [-1, 1, -1], Muon_eta: [-1.94, ..., -2], Muon_mass: [...], ...},\n",
      " {Muon_charge: [-1], Muon_eta: [1.19], Muon_mass: [0.106], Muon_phi: ..., ...},\n",
      " {Muon_charge: [], Muon_eta: [], Muon_mass: [], Muon_phi: [], ...},\n",
      " {Muon_charge: [1, -1], Muon_eta: [1.68, -0.109], Muon_mass: [...], ...}]\n"
     ]
    }
   ],
   "source": [
    "array.show(type=True)"
   ]
  },
  {
   "cell_type": "code",
   "execution_count": 15,
   "id": "9dce5a16-aa51-4acf-a018-456256526eed",
   "metadata": {},
   "outputs": [],
   "source": [
    "df = ak.to_rdataframe({\"Events\": array})\n",
    "\n",
    "rdf = df.Filter('Events.nMuon() == 2')\\\n",
    "    .Filter('Events.Muon_charge()[0] != Events.Muon_charge()[1]')\\\n",
    "    .Define(\"dimuon_mass\", \"\"\"\n",
    "return std::sqrt(2 * Events.Muon_pt()[0] * Events.Muon_pt()[1]\n",
    "    * (std::cosh(Events.Muon_eta()[0] - Events.Muon_eta()[1])\n",
    "    - std::cos(Events.Muon_phi()[0] - Events.Muon_phi()[1])));\n",
    "\"\"\")"
   ]
  },
  {
   "cell_type": "code",
   "execution_count": 16,
   "id": "d12198bb-f123-4e67-937a-2bd107c63b3e",
   "metadata": {},
   "outputs": [
    {
     "name": "stdout",
     "output_type": "stream",
     "text": [
      "Dataframe from datasource Custom Datasource\n",
      "\n",
      "Property                Value\n",
      "--------                -----\n",
      "Columns in total            2\n",
      "Columns from defines        1\n",
      "Event loops run             0\n",
      "Processing slots           12\n",
      "\n",
      "Column          Type                            Origin\n",
      "------          ----                            ------\n",
      "Events          awkward::Record_053ktaRwcM      Dataset\n",
      "dimuon_mass     float                           Define"
     ]
    }
   ],
   "source": [
    "rdf.Describe().Print()"
   ]
  },
  {
   "cell_type": "code",
   "execution_count": null,
   "id": "3af864e8-1c8d-422a-a961-b4df4a7be5c0",
   "metadata": {},
   "outputs": [],
   "source": []
  }
 ],
 "metadata": {
  "kernelspec": {
   "display_name": "Python 3 (ipykernel)",
   "language": "python",
   "name": "python3"
  },
  "language_info": {
   "codemirror_mode": {
    "name": "ipython",
    "version": 3
   },
   "file_extension": ".py",
   "mimetype": "text/x-python",
   "name": "python",
   "nbconvert_exporter": "python",
   "pygments_lexer": "ipython3",
   "version": "3.11.6"
  }
 },
 "nbformat": 4,
 "nbformat_minor": 5
}

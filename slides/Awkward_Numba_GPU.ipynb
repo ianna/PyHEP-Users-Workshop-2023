{
 "cells": [
  {
   "cell_type": "markdown",
   "id": "72b216d4",
   "metadata": {},
   "source": [
    "### Awkward Arrays in Numba’s CUDA target\n",
    "Awkward Array defines extentions to the Numba compiler so that Numba can understand Awkward Array types, and use them to generate efficient compiled code for execution on GPUs or multicore CPUs. The programming effort required is as simple as adding a function decorator to instruct Numba to compile for the GPU."
   ]
  },
  {
   "cell_type": "code",
   "execution_count": null,
   "id": "e3aefc78",
   "metadata": {},
   "outputs": [],
   "source": [
    "import awkward as ak\n",
    "import numpy as np\n",
    "import cupy as cp\n",
    "\n",
    "import numba.cuda"
   ]
  },
  {
   "cell_type": "markdown",
   "id": "018351f3",
   "metadata": {},
   "source": [
    "Note, CUDA has an execution model unlike the traditional sequential model used for programming CPUs. In CUDA, the code you write will be executed by multiple threads at once (often hundreds or thousands). Your solution will be modeled by defining a thread hierarchy of grid, blocks, and threads.\n",
    "\n",
    "#### Writing CUDA kernels that recognize Awkward Arrays\n",
    "\n",
    "For the most part, writing a CUDA kernel in Numba that reads Awkward Arrays is like writing a CUDA kernel in Numba generally. See the Numba documentation for the general case.\n",
    "\n",
    "At the time of writing, Numba’s CUDA backend does not recognize Awkward Arrays until they are explicitly registered. (This may improve in the future.)\n",
    "\n"
   ]
  },
  {
   "cell_type": "code",
   "execution_count": null,
   "id": "931c362f",
   "metadata": {},
   "outputs": [],
   "source": [
    "ak.numba.register_and_check()"
   ]
  },
  {
   "cell_type": "markdown",
   "id": "c015e002",
   "metadata": {},
   "source": [
    "The **@numba.cuda.jit** decorator is used to create a CUDA kernel. A kernel function is a GPU function that is meant to be called from CPU code. To understand Awkward Array types the decorator extensions must include an ak.numba.cuda object that prepares the ak.Array arguments to be passed into Numba’s default argument marshalling logic.\n"
   ]
  },
  {
   "cell_type": "code",
   "execution_count": null,
   "id": "2f24b9a4",
   "metadata": {},
   "outputs": [],
   "source": [
    "@numba.cuda.jit(extensions=[ak.numba.cuda])\n",
    "def path_length(out, array):\n",
    "    tid = numba.cuda.grid(1)\n",
    "    if tid < len(array):\n",
    "        out[tid] = 0\n",
    "        for i, x in enumerate(array[tid]):\n",
    "            out[tid] += x\n"
   ]
  },
  {
   "cell_type": "markdown",
   "id": "bc0f36df",
   "metadata": {},
   "source": [
    "The kernels cannot explicitly return a value. The result data must be written to an out array passed to the function (if computing a scalar, you will probably pass a one-element array).\n",
    "\n",
    "The kernels explicitly declare their thread hierarchy when called: i.e. the number of thread blocks and the number of threads per block (note that while a kernel is compiled once, it can be called multiple times with different block sizes or grid sizes). The tid is the absolute position of the current thread in the entire grid of blocks.\n",
    "\n",
    "#### Awkward Arrays on the GPU\n",
    "\n",
    "It is a user responsibility to allocate and manage memory, for example, transferring device memory back to the host when a kernel finishes. The ak.numba.cuda extention only accepts ak.Array with a cuda backend. That way the array data are already on the device and do not need to be copied.\n",
    "\n"
   ]
  },
  {
   "cell_type": "code",
   "execution_count": null,
   "id": "28fe5e77",
   "metadata": {},
   "outputs": [],
   "source": [
    "N = 2**20\n",
    "\n",
    "counts = ak.Array(cp.random.poisson(1.5, N).astype(np.int32))\n",
    "content = ak.Array(cp.random.normal(0, 45.0, int(ak.sum(counts))).astype(np.float32))\n",
    "array = ak.unflatten(content, counts)\n",
    "array"
   ]
  },
  {
   "cell_type": "markdown",
   "id": "955698ed",
   "metadata": {},
   "source": [
    "```\n",
    "[[-21.588745, -47.100098],\n",
    " [-39.450127, -92.57792, 31.044289],\n",
    " [27.049654],\n",
    " [-11.373441],\n",
    " [-35.659298, -71.42178],\n",
    " [58.675243],\n",
    " [-76.5687],\n",
    " [],\n",
    " [-0.25957778],\n",
    " [74.10834, 76.03588],\n",
    " ...,\n",
    " [10.166055, -91.299965, 69.6425],\n",
    " [16.963938],\n",
    " [],\n",
    " [-39.18325, -72.86962, -27.861113],\n",
    " [102.69239, -15.388875],\n",
    " [-13.863261],\n",
    " [77.03036, -24.707098, -106.96817],\n",
    " [-12.633714, -21.49314, 67.48587],\n",
    " []]\n",
    "------------------------------------\n",
    "type: 1048576 * var * float32\n",
    "```\n",
    "For all but the simplest algorithms, it is important that you carefully consider how to use and access memory in order to minimize bandwidth requirements and contention.\n",
    "\n",
    "Awkward Array can operate on CUDA-device arrays through the cupy library.\n",
    "\n",
    "#### Kernel invocation\n",
    "\n",
    "Numba can use the CUDA array protocol (__cuda_array_interface__) to obtain a zero-copy reference to the CuPy array. We can launch a Numba kernel that operates upon our source array and target result as follows:\n",
    "\n",
    "\n"
   ]
  },
  {
   "cell_type": "code",
   "execution_count": null,
   "id": "362f0c00",
   "metadata": {},
   "outputs": [],
   "source": [
    "blocksize = 256\n",
    "numblocks = (N + blocksize - 1) // blocksize\n",
    "\n",
    "result = cp.empty(len(array), dtype=np.float32)\n",
    "\n",
    "path_length[numblocks, blocksize](result, array)\n",
    "\n",
    "result"
   ]
  },
  {
   "cell_type": "markdown",
   "id": "0ad2e66a",
   "metadata": {},
   "source": [
    "```\n",
    "array([ -68.68884 , -100.98376 ,   27.049654, ...,  -54.644913,\n",
    "         33.359016,    0.      ], dtype=float32)\n",
    "```"
   ]
  },
  {
   "cell_type": "markdown",
   "id": "41d8c10f",
   "metadata": {},
   "source": [
    "The calculation on the GPU is much faster than its CPU equivalent:\n"
   ]
  },
  {
   "cell_type": "code",
   "execution_count": null,
   "id": "f8760aad",
   "metadata": {},
   "outputs": [],
   "source": [
    "%%timeit\n",
    "\n",
    "path_length[numblocks, blocksize](result, array)"
   ]
  },
  {
   "cell_type": "markdown",
   "id": "ca620e9c",
   "metadata": {},
   "source": [
    "```\n",
    "180 µs ± 1.41 µs per loop (mean ± std. dev. of 7 runs, 10,000 loops each)\n",
    "\n",
    "```"
   ]
  },
  {
   "cell_type": "code",
   "execution_count": null,
   "id": "cc63288f",
   "metadata": {},
   "outputs": [],
   "source": [
    "cpu_array = ak.to_backend(array, \"cpu\")\n",
    "\n",
    "%%timeit\n",
    "\n",
    "ak.sum(cpu_array, axis=-1)"
   ]
  },
  {
   "cell_type": "markdown",
   "id": "7a90febf",
   "metadata": {},
   "source": [
    "```\n",
    "7.5 ms ± 43.6 µs per loop (mean ± std. dev. of 7 runs, 100 loops each)\n",
    "```\n",
    "But the result is the same.\n"
   ]
  },
  {
   "cell_type": "code",
   "execution_count": null,
   "id": "9dfc18fe",
   "metadata": {},
   "outputs": [],
   "source": [
    "check_result = ak.sum(cpu_array, axis=-1)\n",
    "\n",
    "ak.all(ak.isclose(check_result, ak.Array(result, backend=\"cpu\"), atol=1e-05))"
   ]
  },
  {
   "cell_type": "markdown",
   "id": "70a74c3d",
   "metadata": {},
   "source": [
    "True"
   ]
  },
  {
   "cell_type": "code",
   "execution_count": null,
   "id": "71710bfd",
   "metadata": {},
   "outputs": [],
   "source": []
  }
 ],
 "metadata": {
  "kernelspec": {
   "display_name": "Python 3 (ipykernel)",
   "language": "python",
   "name": "python3"
  },
  "language_info": {
   "codemirror_mode": {
    "name": "ipython",
    "version": 3
   },
   "file_extension": ".py",
   "mimetype": "text/x-python",
   "name": "python",
   "nbconvert_exporter": "python",
   "pygments_lexer": "ipython3",
   "version": "3.11.0"
  }
 },
 "nbformat": 4,
 "nbformat_minor": 5
}

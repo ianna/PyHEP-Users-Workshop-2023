{
 "cells": [
  {
   "cell_type": "markdown",
   "id": "6bd3bc4b",
   "metadata": {},
   "source": [
    "### Passing Awkward Arrays to and from Python functions compiled by Numba\n",
    "\n",
    "* Numba infers the argument types at call time, and generates optimized code based on this information\n",
    "* Numba also compiles separate specializations depending on the input types \n",
    "* Awkward Arrays can be passed to and from Python functions compiled by Numba"
   ]
  },
  {
   "cell_type": "code",
   "execution_count": 1,
   "id": "dae83e69",
   "metadata": {},
   "outputs": [],
   "source": [
    "import numba"
   ]
  },
  {
   "cell_type": "code",
   "execution_count": 2,
   "id": "669205d9",
   "metadata": {},
   "outputs": [
    {
     "data": {
      "text/plain": [
       "'0.57.0rc1'"
      ]
     },
     "execution_count": 2,
     "metadata": {},
     "output_type": "execute_result"
    }
   ],
   "source": [
    "numba.__version__"
   ]
  },
  {
   "cell_type": "code",
   "execution_count": 3,
   "id": "6849324b",
   "metadata": {},
   "outputs": [],
   "source": [
    "@numba.njit\n",
    "def path_length(array):\n",
    "  result = np.zeros(len(array), dtype=np.float32)\n",
    "  for i, row in enumerate(array):\n",
    "    result[i] = 0\n",
    "    for j, val in enumerate(row):\n",
    "      result[i] += val\n",
    "  return result"
   ]
  },
  {
   "cell_type": "code",
   "execution_count": null,
   "id": "c07d686a",
   "metadata": {},
   "outputs": [],
   "source": []
  }
 ],
 "metadata": {
  "kernelspec": {
   "display_name": "Python 3 (ipykernel)",
   "language": "python",
   "name": "python3"
  },
  "language_info": {
   "codemirror_mode": {
    "name": "ipython",
    "version": 3
   },
   "file_extension": ".py",
   "mimetype": "text/x-python",
   "name": "python",
   "nbconvert_exporter": "python",
   "pygments_lexer": "ipython3",
   "version": "3.11.0"
  }
 },
 "nbformat": 4,
 "nbformat_minor": 5
}

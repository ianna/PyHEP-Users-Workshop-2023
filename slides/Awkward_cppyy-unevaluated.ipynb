{
 "cells": [
  {
   "cell_type": "markdown",
   "id": "c114bbf8",
   "metadata": {},
   "source": [
    "#### Standalone cppyy (C++)\n",
    " * Awkward Arrays can be passed to a C++ (possibly templated) function defined by cppyy compiler\n",
    " *  A user does not need to know what **cpp_type** is\n",
    "    * **cpp_type** is generated on demand when the Array needs to be passed to the function\n",
    " * Based on cppyy from a master branch (3.1.0)\n",
    " \n",
    " Note: ROOT and standalone cppyy cannot be used in the same environment"
   ]
  },
  {
   "cell_type": "code",
   "execution_count": null,
   "id": "9fabfcd1",
   "metadata": {},
   "outputs": [],
   "source": [
    "import awkward as ak"
   ]
  },
  {
   "cell_type": "code",
   "execution_count": null,
   "id": "f28cfb45",
   "metadata": {},
   "outputs": [],
   "source": [
    "ak.__version__"
   ]
  },
  {
   "cell_type": "code",
   "execution_count": null,
   "id": "2b20c6ce",
   "metadata": {},
   "outputs": [],
   "source": [
    "import cppyy"
   ]
  },
  {
   "cell_type": "code",
   "execution_count": null,
   "id": "e9e123be",
   "metadata": {},
   "outputs": [],
   "source": [
    "cppyy.__version__"
   ]
  },
  {
   "cell_type": "code",
   "execution_count": null,
   "id": "d59c716b",
   "metadata": {},
   "outputs": [],
   "source": [
    "cppyy.__version__=\"3.0.1\""
   ]
  },
  {
   "cell_type": "code",
   "execution_count": null,
   "id": "97e0be67",
   "metadata": {},
   "outputs": [],
   "source": [
    "cppyy.__version__"
   ]
  },
  {
   "cell_type": "code",
   "execution_count": null,
   "id": "8d754c6e",
   "metadata": {},
   "outputs": [],
   "source": [
    "array = ak.Array(\n",
    "  [\n",
    "    [{\"x\": 1, \"y\": [1.1]}, {\"x\": 2, \"y\": [2.2, 0.2]}],\n",
    "    [],\n",
    "    [{\"x\": 3, \"y\": [3.0, 0.3, 3.3]}],\n",
    "  ]\n",
    ")\n",
    "\n",
    "source_code_cpp = \"\"\"\n",
    "template<typename T>\n",
    "double go_fast_cpp(T& awkward_array) {\n",
    " double out = 0.0;\n",
    " \n",
    " for (auto list : awkward_array) {\n",
    "   for (auto record : list) {\n",
    "     for (auto item : record.y()) {\n",
    "       out += item;\n",
    "     }\n",
    "   }\n",
    " }\n",
    "\n",
    " return out;\n",
    "}\n",
    "\"\"\"\n",
    "cppyy.cppdef(source_code_cpp)\n",
    "\n",
    "out = cppyy.gbl.go_fast_cpp[array.cpp_type](array)\n",
    "assert out == ak.sum(array[\"y\"])\n"
   ]
  },
  {
   "cell_type": "code",
   "execution_count": null,
   "id": "d26c3a89",
   "metadata": {},
   "outputs": [],
   "source": [
    "out"
   ]
  },
  {
   "cell_type": "code",
   "execution_count": null,
   "id": "c4436fe7",
   "metadata": {},
   "outputs": [],
   "source": [
    "%%timeit\n",
    "cppyy.gbl.go_fast_cpp[array.cpp_type](array)"
   ]
  },
  {
   "cell_type": "code",
   "execution_count": null,
   "id": "24802bf7",
   "metadata": {},
   "outputs": [],
   "source": [
    "%%timeit\n",
    "ak.sum(array[\"y\"])"
   ]
  },
  {
   "cell_type": "code",
   "execution_count": null,
   "id": "c4a6ecf5",
   "metadata": {},
   "outputs": [],
   "source": [
    "%%timeit\n",
    "out = 0.0\n",
    "for list in array:\n",
    "    for record in list[\"y\"]:\n",
    "        for item in record:\n",
    "            out += item "
   ]
  },
  {
   "cell_type": "code",
   "execution_count": null,
   "id": "cea25e61",
   "metadata": {},
   "outputs": [],
   "source": [
    "out"
   ]
  },
  {
   "cell_type": "code",
   "execution_count": null,
   "id": "b04bbd8e",
   "metadata": {},
   "outputs": [],
   "source": []
  }
 ],
 "metadata": {
  "kernelspec": {
   "display_name": "Python 3 (ipykernel)",
   "language": "python",
   "name": "python3"
  },
  "language_info": {
   "codemirror_mode": {
    "name": "ipython",
    "version": 3
   },
   "file_extension": ".py",
   "mimetype": "text/x-python",
   "name": "python",
   "nbconvert_exporter": "python",
   "pygments_lexer": "ipython3",
   "version": "3.11.0"
  }
 },
 "nbformat": 4,
 "nbformat_minor": 5
}

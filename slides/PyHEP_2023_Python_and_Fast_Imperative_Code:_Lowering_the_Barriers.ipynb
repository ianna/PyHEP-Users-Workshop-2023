{
 "cells": [
  {
   "cell_type": "markdown",
   "id": "7a4b2bf4",
   "metadata": {},
   "source": [
    "# Python and Fast Imperative Code: Lowering the Barriers"
   ]
  },
  {
   "cell_type": "markdown",
   "id": "5f905878",
   "metadata": {},
   "source": [
    "In a typical HEP data analysis process, data is explored by a physicist loading large amounts of data into an interactive Python environment. The physicist performs various analyses of this data. The results of the first analysis tell the physicist what the next steps should be. Python as a dynamically typed language is ideal for this task. The downside is that Python is not very fast.\n",
    "\n",
    "C++ as a statically typed language is fast. It is perfect for writing the performance critical components that speed things up. Python is used to arrange and connect these components. Thus at runtime the physicist can rearrange these components interactively, without reloading the data.\n",
    "\n",
    "We will look at a few examples how to write your own analysis components and connect them via:\n",
    "\n",
    " * Conversions of Awkward Arrays to and from RDataFrame (C++)\n",
    " * Standalone cppyy (C++)\n",
    " * Passing Awkward Arrays to and from Python functions compiled by Numba\n",
    " * Passing Awkward Arrays to Python functions compiled for GPUs by Numba\n",
    " * Header-only libraries for populating Awkward Arrays from C++ without any Python dependencies\n",
    " \n",
    "We will introduce Awkward Arrays in Julia via a recent development of Awkward Arrays PyJulia/PyCall.jl-based bridges."
   ]
  },
  {
   "cell_type": "markdown",
   "id": "f4ca7af4",
   "metadata": {},
   "source": [
    "### Conversions of Awkward Arrays to and from RDataFrame (C++)"
   ]
  },
  {
   "cell_type": "code",
   "execution_count": 1,
   "id": "e01a5fa1",
   "metadata": {},
   "outputs": [
    {
     "data": {
      "text/plain": [
       "'2.1.3'"
      ]
     },
     "execution_count": 1,
     "metadata": {},
     "output_type": "execute_result"
    }
   ],
   "source": [
    "import awkward as ak\n",
    "ak.__version__"
   ]
  },
  {
   "cell_type": "markdown",
   "id": "2872d98e",
   "metadata": {},
   "source": [
    "https://awkward-array.org/doc/main/user-guide/how-to-convert-rdataframe.html"
   ]
  },
  {
   "cell_type": "markdown",
   "id": "975f14d7",
   "metadata": {},
   "source": [
    "### Standalone cppyy (C++)"
   ]
  },
  {
   "cell_type": "code",
   "execution_count": 2,
   "id": "6c2a723d",
   "metadata": {},
   "outputs": [],
   "source": [
    "import cppyy"
   ]
  },
  {
   "cell_type": "code",
   "execution_count": 3,
   "id": "07c939a7",
   "metadata": {},
   "outputs": [
    {
     "data": {
      "text/plain": [
       "'3.0.0'"
      ]
     },
     "execution_count": 3,
     "metadata": {},
     "output_type": "execute_result"
    }
   ],
   "source": [
    "cppyy.__version__"
   ]
  },
  {
   "cell_type": "markdown",
   "id": "9de07485",
   "metadata": {},
   "source": [
    "### Passing Awkward Arrays to and from Python functions compiled by Numba"
   ]
  },
  {
   "cell_type": "code",
   "execution_count": 4,
   "id": "0929d66b",
   "metadata": {},
   "outputs": [
    {
     "data": {
      "text/plain": [
       "'0.57.0rc1'"
      ]
     },
     "execution_count": 4,
     "metadata": {},
     "output_type": "execute_result"
    }
   ],
   "source": [
    "import numba\n",
    "numba.__version__"
   ]
  },
  {
   "cell_type": "markdown",
   "id": "489a8d71",
   "metadata": {},
   "source": [
    "### Passing Awkward Arrays to Python functions compiled for GPUs by Numba"
   ]
  },
  {
   "cell_type": "markdown",
   "id": "e3c14394",
   "metadata": {},
   "source": [
    "https://awkward-array.org/doc/main/user-guide/how-to-use-in-numba-cuda.html#how-to-use-awkward-arrays-in-numba-s-cuda-target"
   ]
  },
  {
   "cell_type": "markdown",
   "id": "b44e6bb2",
   "metadata": {},
   "source": [
    "### Header-only libraries for populating Awkward Arrays from C++ without any Python dependencies"
   ]
  },
  {
   "cell_type": "markdown",
   "id": "ba56b896",
   "metadata": {},
   "source": [
    "https://awkward-array.org/doc/main/user-guide/how-to-use-header-only-layoutbuilder.html"
   ]
  },
  {
   "cell_type": "markdown",
   "id": "8c301ed6",
   "metadata": {},
   "source": [
    "### Awkward Arrays in Julia"
   ]
  },
  {
   "cell_type": "code",
   "execution_count": null,
   "id": "79c18a27",
   "metadata": {},
   "outputs": [],
   "source": [
    "(base) user@macbookpro ~ % julia\n",
    "               _\n",
    "   _       _ _(_)_     |  Documentation: https://docs.julialang.org\n",
    "  (_)     | (_) (_)    |\n",
    "   _ _   _| |_  __ _   |  Type \"?\" for help, \"]?\" for Pkg help.\n",
    "  | | | | | | |/ _` |  |\n",
    "  | | |_| | | | (_| |  |  Version 1.9.2 (2023-07-05)\n",
    " _/ |\\__'_|_|_|\\__'_|  |  Official https://julialang.org/ release\n",
    "|__/                   |\n"
   ]
  },
  {
   "cell_type": "code",
   "execution_count": null,
   "id": "2b4c561a",
   "metadata": {},
   "outputs": [],
   "source": [
    "julia> using OhMyREPL, Revise, Debugger"
   ]
  }
 ],
 "metadata": {
  "kernelspec": {
   "display_name": "Python 3 (ipykernel)",
   "language": "python",
   "name": "python3"
  },
  "language_info": {
   "codemirror_mode": {
    "name": "ipython",
    "version": 3
   },
   "file_extension": ".py",
   "mimetype": "text/x-python",
   "name": "python",
   "nbconvert_exporter": "python",
   "pygments_lexer": "ipython3",
   "version": "3.11.0"
  }
 },
 "nbformat": 4,
 "nbformat_minor": 5
}

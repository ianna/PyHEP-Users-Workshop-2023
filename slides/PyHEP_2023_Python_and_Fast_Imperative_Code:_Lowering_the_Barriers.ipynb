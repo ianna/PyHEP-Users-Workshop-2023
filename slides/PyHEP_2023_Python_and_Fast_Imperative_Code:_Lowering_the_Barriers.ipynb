{
 "cells": [
  {
   "cell_type": "markdown",
   "id": "b93f0a74",
   "metadata": {},
   "source": [
    "# Python and Fast Imperative Code: Lowering the Barriers"
   ]
  },
  {
   "cell_type": "markdown",
   "id": "f53ac1dd",
   "metadata": {},
   "source": [
    "In a typical HEP data analysis process, data is explored by a physicist loading large amounts of data into an interactive Python environment. The physicist performs various analyses of this data. The results of the first analysis tell the physicist what the next steps should be. Python as a dynamically typed language is ideal for this task. The downside is that Python is not very fast.\n",
    "\n",
    "C++ as a statically typed language is fast. It is perfect for writing the performance critical components that speed things up. Python is used to arrange and connect these components. Thus at runtime the physicist can rearrange these components interactively, without reloading the data.\n",
    "\n",
    "We will look at a few examples how to write your own analysis components and connect them via:\n",
    "\n",
    " * Conversions of Awkward Arrays to and from RDataFrame (C++)\n",
    " * Standalone cppyy (C++)\n",
    " * Passing Awkward Arrays to and from Python functions compiled by Numba\n",
    " * Passing Awkward Arrays to Python functions compiled for GPUs by Numba\n",
    " * Header-only libraries for populating Awkward Arrays from C++ without any Python dependencies\n",
    " \n",
    "We will introduce Awkward Arrays in Julia via a recent development of Awkward Arrays PyJulia/PyCall.jl-based bridges."
   ]
  },
  {
   "cell_type": "markdown",
   "id": "c6316e66",
   "metadata": {},
   "source": [
    "### Conversions of Awkward Arrays to and from RDataFrame (C++)\n",
    "Awkward Array is a library for performing NumPy-like computations on nested, variable-sized data, enabling array-oriented programming on arbitrary data structures in Python.\n",
    "\n",
    "The ROOT RDataFrame is a declarative, parallel framework for data analysis and manipulation. RDataFrame reads columnar data via a data source. The transformations can be applied to the data to select rows and/or to define new columns, and to produce results: histograms, etc.\n",
    "\n",
    " * *ak.to_rdataframe* function presents a view of an Awkward Array as an RDataFrame source\n",
    " * *ak.from_rdataframe* function converts the selected columns as native Awkward Arrays\n",
    " * Why is it fast? A zero-copy Awkward Array view and all for-loops on data are implemented in C++"
   ]
  },
  {
   "cell_type": "code",
   "execution_count": 1,
   "id": "4020a78d",
   "metadata": {},
   "outputs": [
    {
     "data": {
      "text/plain": [
       "'2.4.5'"
      ]
     },
     "execution_count": 1,
     "metadata": {},
     "output_type": "execute_result"
    }
   ],
   "source": [
    "import awkward as ak\n",
    "ak.__version__"
   ]
  },
  {
   "cell_type": "markdown",
   "id": "ad9b15cf",
   "metadata": {},
   "source": [
    "Let's go to an [Awkward - RDataFrame Jupyter notebook](Awkward_RDataFrame.ipynb)"
   ]
  },
  {
   "cell_type": "markdown",
   "id": "5f6c3330",
   "metadata": {},
   "source": [
    "For more information please, check the [AwkwardArray User Guide](https://awkward-array.org/doc/main/user-guide/how-to-convert-rdataframe.html)"
   ]
  },
  {
   "cell_type": "markdown",
   "id": "b5490642",
   "metadata": {},
   "source": [
    "### Standalone cppyy (C++)"
   ]
  },
  {
   "cell_type": "code",
   "execution_count": 2,
   "id": "f004fb0d",
   "metadata": {},
   "outputs": [],
   "source": [
    "import cppyy"
   ]
  },
  {
   "cell_type": "code",
   "execution_count": 3,
   "id": "1328cb60",
   "metadata": {},
   "outputs": [
    {
     "data": {
      "text/plain": [
       "'3.0.0'"
      ]
     },
     "execution_count": 3,
     "metadata": {},
     "output_type": "execute_result"
    }
   ],
   "source": [
    "cppyy.__version__"
   ]
  },
  {
   "cell_type": "markdown",
   "id": "79fe9055",
   "metadata": {},
   "source": [
    "Let's go to an [Awkward - cppyy Jupyter notebook](Awkward_cppyy.ipynb)"
   ]
  },
  {
   "cell_type": "markdown",
   "id": "c992b5fe",
   "metadata": {},
   "source": [
    "### Passing Awkward Arrays to and from Python functions compiled by Numba"
   ]
  },
  {
   "cell_type": "code",
   "execution_count": 4,
   "id": "3391a14e",
   "metadata": {},
   "outputs": [
    {
     "data": {
      "text/plain": [
       "'0.57.0rc1'"
      ]
     },
     "execution_count": 4,
     "metadata": {},
     "output_type": "execute_result"
    }
   ],
   "source": [
    "import numba\n",
    "numba.__version__"
   ]
  },
  {
   "cell_type": "markdown",
   "id": "464866bc",
   "metadata": {},
   "source": [
    "Let's go to an [Awkward-Numba Jupyter notebook](Awkward_Numba.ipynb)"
   ]
  },
  {
   "cell_type": "markdown",
   "id": "45d79cdb",
   "metadata": {},
   "source": [
    "### Passing Awkward Arrays to Python functions compiled for GPUs by Numba"
   ]
  },
  {
   "cell_type": "markdown",
   "id": "2a49456a",
   "metadata": {},
   "source": [
    "Let's go to an [Awkward-Numba for GPU Jupyter notebook](Awkward_Numba_GPU.ipynb)"
   ]
  },
  {
   "cell_type": "markdown",
   "id": "799aec3d",
   "metadata": {},
   "source": [
    "https://awkward-array.org/doc/main/user-guide/how-to-use-in-numba-cuda.html#how-to-use-awkward-arrays-in-numba-s-cuda-target"
   ]
  },
  {
   "cell_type": "markdown",
   "id": "51565ace",
   "metadata": {},
   "source": [
    "### Header-only libraries for populating Awkward Arrays from C++ without any Python dependencies"
   ]
  },
  {
   "cell_type": "markdown",
   "id": "7b402d7f",
   "metadata": {},
   "source": [
    "Let's go to an [Awkward-LayoutBuilder Jupyter notebook](Awkward_LayoutBuilder.ipynb)"
   ]
  },
  {
   "cell_type": "markdown",
   "id": "d1dd84a6",
   "metadata": {},
   "source": [
    "https://awkward-array.org/doc/main/user-guide/how-to-use-header-only-layoutbuilder.html"
   ]
  },
  {
   "cell_type": "markdown",
   "id": "71fb0e47",
   "metadata": {},
   "source": [
    "### Awkward Arrays in Julia"
   ]
  },
  {
   "cell_type": "code",
   "execution_count": null,
   "id": "00c6fc92",
   "metadata": {},
   "outputs": [],
   "source": [
    "(base) user@macbookpro ~ % julia\n",
    "               _\n",
    "   _       _ _(_)_     |  Documentation: https://docs.julialang.org\n",
    "  (_)     | (_) (_)    |\n",
    "   _ _   _| |_  __ _   |  Type \"?\" for help, \"]?\" for Pkg help.\n",
    "  | | | | | | |/ _` |  |\n",
    "  | | |_| | | | (_| |  |  Version 1.9.2 (2023-07-05)\n",
    " _/ |\\__'_|_|_|\\__'_|  |  Official https://julialang.org/ release\n",
    "|__/                   |\n"
   ]
  },
  {
   "cell_type": "code",
   "execution_count": null,
   "id": "1e06e873",
   "metadata": {},
   "outputs": [],
   "source": [
    "julia> using OhMyREPL, Revise, Debugger"
   ]
  },
  {
   "cell_type": "markdown",
   "id": "2534f0e0",
   "metadata": {},
   "source": [
    "Let's go to an [Awkward - Julia Jupyter notebook](Awkward-Julia.ipynb)"
   ]
  },
  {
   "cell_type": "code",
   "execution_count": null,
   "id": "70c91f05",
   "metadata": {},
   "outputs": [],
   "source": []
  }
 ],
 "metadata": {
  "kernelspec": {
   "display_name": "Python 3 (ipykernel)",
   "language": "python",
   "name": "python3"
  },
  "language_info": {
   "codemirror_mode": {
    "name": "ipython",
    "version": 3
   },
   "file_extension": ".py",
   "mimetype": "text/x-python",
   "name": "python",
   "nbconvert_exporter": "python",
   "pygments_lexer": "ipython3",
   "version": "3.11.0"
  }
 },
 "nbformat": 4,
 "nbformat_minor": 5
}

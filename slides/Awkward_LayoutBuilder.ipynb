{
 "cells": [
  {
   "cell_type": "markdown",
   "id": "7bcb030b",
   "metadata": {},
   "source": [
    "### Header-only libraries for populating Awkward Arrays from C++ without any Python dependencies\n",
    "The header-only Layout Builder consists of a set of compile-time, templated, static C++ classes, implemented entirely in header file which can be dropped into any external project, and easily separable from the rest of the Awkward C++ codebase."
   ]
  },
  {
   "cell_type": "markdown",
   "id": "d4e46d08",
   "metadata": {},
   "source": [
    "```C++\n",
    "#include \"awkward/LayoutBuilder.h\"\n",
    "\n",
    "enum Field : std::size_t {one, two};\n",
    "\n",
    "using UserDefinedMap = std::map<std::size_t, std::string>;\n",
    "\n",
    "UserDefinedMap fields_map({\n",
    "    {Field::one, \"one\"},\n",
    "    {Field::two, \"two\"}\n",
    "});\n",
    "\n",
    "… // Type aliases omitted for brevity\n",
    "\n",
    "RecordBuilder<\n",
    "  RecordField<Field::one, NumpyBuilder<double>>,\n",
    "  RecordField<Field::two, ListOffsetBuilder<int64_t,\n",
    "      NumpyBuilder<int32_t>>>\n",
    "> builder(fields_map);\n",
    "\n",
    "auto& one_builder = builder.field<Field::one>();\n",
    "auto& two_builder = builder.field<Field::two>();\n",
    "\n",
    "one_builder.append(1.1);\n",
    "auto& two_subbuilder = two_builder.begin_list();\n",
    "two_subbuilder.append(1);\n",
    "two_builder.end_list();\n",
    "\n",
    "one_builder.append(2.2);\n",
    "two_builder.begin_list();\n",
    "two_subbuilder.append(1);\n",
    "two_subbuilder.append(2);\n",
    "two_builder.end_list();\n",
    "\n",
    "one_builder.append(3.3);\n",
    "```"
   ]
  },
  {
   "cell_type": "markdown",
   "id": "d148723a",
   "metadata": {},
   "source": [
    "Retrieve the information needed to allocate the empty buffers as a map of their names (the form node keys as defined by the LayoutBuilder) to their sizes (in bytes).\n",
    "\n",
    "```C++\n",
    "std::map<std::string, size_t> names_nbytes = {};\n",
    "builder.buffer_nbytes(names_nbytes);\n",
    "names_nbytes\n",
    "```\n",
    "(std::map<std::string, size_t> &) { \"node1-data\" => 24, \"node2-offsets\" => 32, \"node3-data\" => 24 }\n",
    "\n",
    "Next, allocate the memory for these buffers using the user-given pointers and the same names/sizes as above. Then, let the LayoutBuilder fill these buffers with to_buffers() method.\n",
    "\n",
    "```C++\n",
    "std::map<std::string, void*> buffers = {};\n",
    "for(auto it : names_nbytes) {\n",
    "    uint8_t* ptr = new uint8_t[it.second];\n",
    "    buffers[it.first] = (void*)ptr;\n",
    "}\n",
    "```\n",
    "builder.to_buffers(buffers);"
   ]
  },
  {
   "cell_type": "markdown",
   "id": "5af78787",
   "metadata": {},
   "source": [
    "#### Passing from C++ to Python"
   ]
  },
  {
   "cell_type": "markdown",
   "id": "a4eb63d5",
   "metadata": {},
   "source": [
    "We want NumPy to own the array buffers, so that they get deleted when the Awkward Array goes out of Python scope, not when the LayoutBuilder goes out of C++ scope. For the hand-off, one can allocate memory for those buffers in Python, presumably with np.empty(nbytes, dtype=np.uint8) and get void* pointers to these buffers by casting the output of numpy_array.ctypes.data (pointer as integer). Then we can pass everything over the border from C++ to Python using e.g. pybind11’s py::buffer_protocol for the buffers.\n",
    "\n",
    "Alternatively, the Python capsule system can be used to tie the lifetime of the allocated buffers to the calling Python scope. pybind11 makes this fairly trivial, and also permits us to invoke Python code from C++. We can use this approach to call ak.from_buffers in order to build an ak.Array."
   ]
  },
  {
   "cell_type": "code",
   "execution_count": null,
   "id": "2672a704",
   "metadata": {},
   "outputs": [],
   "source": []
  }
 ],
 "metadata": {
  "kernelspec": {
   "display_name": "Python 3 (ipykernel)",
   "language": "python",
   "name": "python3"
  },
  "language_info": {
   "codemirror_mode": {
    "name": "ipython",
    "version": 3
   },
   "file_extension": ".py",
   "mimetype": "text/x-python",
   "name": "python",
   "nbconvert_exporter": "python",
   "pygments_lexer": "ipython3",
   "version": "3.11.0"
  }
 },
 "nbformat": 4,
 "nbformat_minor": 5
}

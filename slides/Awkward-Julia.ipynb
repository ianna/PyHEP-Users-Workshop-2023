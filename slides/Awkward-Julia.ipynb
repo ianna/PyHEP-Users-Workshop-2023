{
 "cells": [
  {
   "cell_type": "markdown",
   "id": "99bd0bc4",
   "metadata": {},
   "source": [
    "### Awkward Arrays in Julia\n",
    "Why Julia? Julia is a major milestone in the evolution of programming languages. Learning Julia is a bet on a future.\n",
    "\n",
    "Julia is a general-purpose, multi-platform programming language that is:\n",
    "\n",
    "* Suited for numerical analysis and computational science\n",
    "* Dynamically typed\n",
    "* High performance and just-in-time compiled\n",
    "* Using automatic memory management (garbage collection)\n",
    "* Composable"
   ]
  },
  {
   "cell_type": "code",
   "execution_count": 1,
   "id": "9eae7df6",
   "metadata": {},
   "outputs": [],
   "source": [
    "using OhMyREPL, Revise, Debugger"
   ]
  },
  {
   "cell_type": "code",
   "execution_count": 2,
   "id": "93917607",
   "metadata": {},
   "outputs": [],
   "source": [
    "using AwkwardArray"
   ]
  },
  {
   "cell_type": "code",
   "execution_count": 3,
   "id": "40e6e053",
   "metadata": {},
   "outputs": [],
   "source": [
    "using AwkwardArray: Index64, ListOffsetArray, PrimitiveArray"
   ]
  },
  {
   "cell_type": "code",
   "execution_count": 4,
   "id": "00e4a182",
   "metadata": {},
   "outputs": [
    {
     "data": {
      "text/plain": [
       "0-element ListOffsetArray{Vector{Int64}, PrimitiveArray{Float64, Vector{Float64}, :default}, :default}"
      ]
     },
     "execution_count": 4,
     "metadata": {},
     "output_type": "execute_result"
    }
   ],
   "source": [
    "array = ListOffsetArray{Index64,PrimitiveArray{Float64}}()"
   ]
  },
  {
   "cell_type": "code",
   "execution_count": 5,
   "id": "d4d4dd48",
   "metadata": {},
   "outputs": [
    {
     "data": {
      "text/plain": [
       "1-element ListOffsetArray{Vector{Int64}, PrimitiveArray{Float64, Vector{Float64}, :default}, :default}:\n",
       " [1.1, 2.2, 3.3]"
      ]
     },
     "execution_count": 5,
     "metadata": {},
     "output_type": "execute_result"
    }
   ],
   "source": [
    "push!(array, [1.1, 2.2, 3.3])"
   ]
  },
  {
   "cell_type": "code",
   "execution_count": 6,
   "id": "1d55bb36",
   "metadata": {},
   "outputs": [
    {
     "data": {
      "text/plain": [
       "2-element ListOffsetArray{Vector{Int64}, PrimitiveArray{Float64, Vector{Float64}, :default}, :default}:\n",
       " [1.1, 2.2, 3.3]\n",
       " [4.4]"
      ]
     },
     "execution_count": 6,
     "metadata": {},
     "output_type": "execute_result"
    }
   ],
   "source": [
    "push!(array, [4.4])"
   ]
  },
  {
   "cell_type": "code",
   "execution_count": 7,
   "id": "e85cec49",
   "metadata": {},
   "outputs": [
    {
     "data": {
      "text/plain": [
       "4-element ListOffsetArray{Vector{Int64}, PrimitiveArray{Float64, Vector{Float64}, :default}, :default}:\n",
       " [1.1, 2.2, 3.3]\n",
       " [4.4]\n",
       " [5.5, 6.6]\n",
       " [7.7, 8.8, 9.9]"
      ]
     },
     "execution_count": 7,
     "metadata": {},
     "output_type": "execute_result"
    }
   ],
   "source": [
    "append!(array, [[5.5, 6.6], [7.7, 8.8, 9.9]])"
   ]
  },
  {
   "cell_type": "code",
   "execution_count": 8,
   "id": "5b6c62e0",
   "metadata": {},
   "outputs": [
    {
     "data": {
      "text/plain": [
       "4-element Vector{Vector{Float64}}:\n",
       " [1.1, 2.2, 3.3]\n",
       " [4.4]\n",
       " [5.5, 6.6]\n",
       " [7.7, 8.8, 9.9]"
      ]
     },
     "execution_count": 8,
     "metadata": {},
     "output_type": "execute_result"
    }
   ],
   "source": [
    "AwkwardArray.to_vector(array)"
   ]
  },
  {
   "cell_type": "code",
   "execution_count": 9,
   "id": "5e9304cf",
   "metadata": {},
   "outputs": [
    {
     "data": {
      "text/plain": [
       "4-element ListOffsetArray{Vector{Int64}, PrimitiveArray{Float64, Vector{Float64}, :default}, :default}:\n",
       " [1.1, 2.2, 3.3]\n",
       " [4.4]\n",
       " [5.5, 6.6]\n",
       " [7.7, 8.8, 9.9]"
      ]
     },
     "execution_count": 9,
     "metadata": {},
     "output_type": "execute_result"
    }
   ],
   "source": [
    "AwkwardArray.from_iter(AwkwardArray.to_vector(array))"
   ]
  },
  {
   "cell_type": "code",
   "execution_count": 10,
   "id": "09e9201c",
   "metadata": {},
   "outputs": [],
   "source": [
    "using PyCall"
   ]
  },
  {
   "cell_type": "code",
   "execution_count": 11,
   "id": "b3728e9e",
   "metadata": {},
   "outputs": [],
   "source": [
    "py\"\"\"\n",
    "import numpy as np\n",
    "\n",
    "def sinpi(x):\n",
    "    return np.sin(np.pi * x)\n",
    "\"\"\""
   ]
  },
  {
   "cell_type": "code",
   "execution_count": 12,
   "id": "59ee2fd6",
   "metadata": {},
   "outputs": [
    {
     "data": {
      "text/plain": [
       "1.2246467991473532e-16"
      ]
     },
     "execution_count": 12,
     "metadata": {},
     "output_type": "execute_result"
    }
   ],
   "source": [
    " py\"sinpi\"(1)"
   ]
  },
  {
   "cell_type": "code",
   "execution_count": 13,
   "id": "a9880fe3",
   "metadata": {},
   "outputs": [],
   "source": [
    "using AwkwardArray: StringOffsetArray"
   ]
  },
  {
   "cell_type": "code",
   "execution_count": 14,
   "id": "1691ab7b",
   "metadata": {},
   "outputs": [
    {
     "data": {
      "text/plain": [
       "0-element ListOffsetArray{Vector{Int64}, PrimitiveArray{UInt8, Vector{UInt8}, :char}, :string}"
      ]
     },
     "execution_count": 14,
     "metadata": {},
     "output_type": "execute_result"
    }
   ],
   "source": [
    "array = StringOffsetArray()"
   ]
  },
  {
   "cell_type": "code",
   "execution_count": 15,
   "id": "d09b01e2",
   "metadata": {},
   "outputs": [
    {
     "data": {
      "text/plain": [
       "5-element ListOffsetArray{Vector{Int64}, PrimitiveArray{UInt8, Vector{UInt8}, :char}, :string}:\n",
       " \"one\"\n",
       " \"two\"\n",
       " \"three\"\n",
       " \"four\"\n",
       " \"five\""
      ]
     },
     "execution_count": 15,
     "metadata": {},
     "output_type": "execute_result"
    }
   ],
   "source": [
    "append!(array, [\"one\", \"two\", \"three\", \"four\", \"five\"])"
   ]
  },
  {
   "cell_type": "code",
   "execution_count": 16,
   "id": "8fd59f24",
   "metadata": {},
   "outputs": [
    {
     "data": {
      "text/plain": [
       "\"three\""
      ]
     },
     "execution_count": 16,
     "metadata": {},
     "output_type": "execute_result"
    }
   ],
   "source": [
    "array[3]"
   ]
  },
  {
   "cell_type": "code",
   "execution_count": 17,
   "id": "a23e99f8",
   "metadata": {},
   "outputs": [
    {
     "data": {
      "text/plain": [
       "String"
      ]
     },
     "execution_count": 17,
     "metadata": {},
     "output_type": "execute_result"
    }
   ],
   "source": [
    "typeof(array[3])"
   ]
  },
  {
   "cell_type": "markdown",
   "id": "b11f89c1",
   "metadata": {},
   "source": [
    "For more information, please, check https://github.com/jpivarski/AwkwardArray.jl"
   ]
  },
  {
   "cell_type": "code",
   "execution_count": null,
   "id": "60fc02e5",
   "metadata": {},
   "outputs": [],
   "source": []
  }
 ],
 "metadata": {
  "kernelspec": {
   "display_name": "Julia 1.9.2",
   "language": "julia",
   "name": "julia-1.9"
  },
  "language_info": {
   "file_extension": ".jl",
   "mimetype": "application/julia",
   "name": "julia",
   "version": "1.9.2"
  }
 },
 "nbformat": 4,
 "nbformat_minor": 5
}

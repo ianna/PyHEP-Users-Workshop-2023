{
 "cells": [
  {
   "cell_type": "markdown",
   "id": "140a6b16",
   "metadata": {},
   "source": [
    "#### Standalone cppyy (C++)\n",
    " * Awkward Arrays can be passed to a C++ (possibly templated) function defined by cppyy compiler\n",
    " *  A user does not need to know what **cpp_type** is\n",
    "    * **cpp_type** is generated on demand when the Array needs to be passed to the function\n",
    " * Based on cppyy from a master branch (3.1.0)\n",
    " \n",
    " Note: ROOT and standalone cppyy cannot be used in the same environment"
   ]
  },
  {
   "cell_type": "code",
   "execution_count": 1,
   "id": "9fabfcd1",
   "metadata": {},
   "outputs": [],
   "source": [
    "import awkward as ak"
   ]
  },
  {
   "cell_type": "code",
   "execution_count": 2,
   "id": "f28cfb45",
   "metadata": {},
   "outputs": [
    {
     "data": {
      "text/plain": [
       "'2.4.5'"
      ]
     },
     "execution_count": 2,
     "metadata": {},
     "output_type": "execute_result"
    }
   ],
   "source": [
    "ak.__version__"
   ]
  },
  {
   "cell_type": "code",
   "execution_count": 3,
   "id": "2b20c6ce",
   "metadata": {},
   "outputs": [],
   "source": [
    "import cppyy"
   ]
  },
  {
   "cell_type": "code",
   "execution_count": 4,
   "id": "e9e123be",
   "metadata": {},
   "outputs": [
    {
     "data": {
      "text/plain": [
       "'3.0.0'"
      ]
     },
     "execution_count": 4,
     "metadata": {},
     "output_type": "execute_result"
    }
   ],
   "source": [
    "cppyy.__version__"
   ]
  },
  {
   "cell_type": "code",
   "execution_count": 5,
   "id": "d59c716b",
   "metadata": {},
   "outputs": [],
   "source": [
    "cppyy.__version__=\"3.0.1\""
   ]
  },
  {
   "cell_type": "code",
   "execution_count": 6,
   "id": "97e0be67",
   "metadata": {},
   "outputs": [
    {
     "data": {
      "text/plain": [
       "'3.0.1'"
      ]
     },
     "execution_count": 6,
     "metadata": {},
     "output_type": "execute_result"
    }
   ],
   "source": [
    "cppyy.__version__"
   ]
  },
  {
   "cell_type": "code",
   "execution_count": 7,
   "id": "8d754c6e",
   "metadata": {},
   "outputs": [],
   "source": [
    "array = ak.Array(\n",
    "  [\n",
    "    [{\"x\": 1, \"y\": [1.1]}, {\"x\": 2, \"y\": [2.2, 0.2]}],\n",
    "    [],\n",
    "    [{\"x\": 3, \"y\": [3.0, 0.3, 3.3]}],\n",
    "  ]\n",
    ")\n",
    "\n",
    "source_code_cpp = \"\"\"\n",
    "template<typename T>\n",
    "double go_fast_cpp(T& awkward_array) {\n",
    " double out = 0.0;\n",
    " \n",
    " for (auto list : awkward_array) {\n",
    "   for (auto record : list) {\n",
    "     for (auto item : record.y()) {\n",
    "       out += item;\n",
    "     }\n",
    "   }\n",
    " }\n",
    "\n",
    " return out;\n",
    "}\n",
    "\"\"\"\n",
    "cppyy.cppdef(source_code_cpp)\n",
    "\n",
    "out = cppyy.gbl.go_fast_cpp[array.cpp_type](array)\n",
    "assert out == ak.sum(array[\"y\"])\n"
   ]
  },
  {
   "cell_type": "code",
   "execution_count": 8,
   "id": "d26c3a89",
   "metadata": {},
   "outputs": [
    {
     "data": {
      "text/plain": [
       "10.1"
      ]
     },
     "execution_count": 8,
     "metadata": {},
     "output_type": "execute_result"
    }
   ],
   "source": [
    "out"
   ]
  },
  {
   "cell_type": "code",
   "execution_count": 9,
   "id": "c4436fe7",
   "metadata": {},
   "outputs": [
    {
     "name": "stdout",
     "output_type": "stream",
     "text": [
      "5.97 µs ± 41.7 ns per loop (mean ± std. dev. of 7 runs, 100,000 loops each)\n"
     ]
    }
   ],
   "source": [
    "%%timeit\n",
    "cppyy.gbl.go_fast_cpp[array.cpp_type](array)"
   ]
  },
  {
   "cell_type": "code",
   "execution_count": 10,
   "id": "f9f57bb5",
   "metadata": {},
   "outputs": [
    {
     "name": "stdout",
     "output_type": "stream",
     "text": [
      "184 µs ± 6.54 µs per loop (mean ± std. dev. of 7 runs, 10,000 loops each)\n"
     ]
    }
   ],
   "source": [
    "%%timeit\n",
    "ak.sum(array[\"y\"])"
   ]
  },
  {
   "cell_type": "code",
   "execution_count": 11,
   "id": "95eb22ae",
   "metadata": {},
   "outputs": [
    {
     "name": "stdout",
     "output_type": "stream",
     "text": [
      "307 µs ± 2.23 µs per loop (mean ± std. dev. of 7 runs, 1,000 loops each)\n"
     ]
    }
   ],
   "source": [
    "%%timeit\n",
    "out = 0.0\n",
    "for list in array:\n",
    "    for record in list[\"y\"]:\n",
    "        for item in record:\n",
    "            out += item "
   ]
  },
  {
   "cell_type": "code",
   "execution_count": 12,
   "id": "0f3f6233",
   "metadata": {},
   "outputs": [
    {
     "data": {
      "text/plain": [
       "10.1"
      ]
     },
     "execution_count": 12,
     "metadata": {},
     "output_type": "execute_result"
    }
   ],
   "source": [
    "out"
   ]
  },
  {
   "cell_type": "code",
   "execution_count": null,
   "id": "9460fb63",
   "metadata": {},
   "outputs": [],
   "source": []
  }
 ],
 "metadata": {
  "kernelspec": {
   "display_name": "Python 3 (ipykernel)",
   "language": "python",
   "name": "python3"
  },
  "language_info": {
   "codemirror_mode": {
    "name": "ipython",
    "version": 3
   },
   "file_extension": ".py",
   "mimetype": "text/x-python",
   "name": "python",
   "nbconvert_exporter": "python",
   "pygments_lexer": "ipython3",
   "version": "3.11.0"
  }
 },
 "nbformat": 4,
 "nbformat_minor": 5
}
